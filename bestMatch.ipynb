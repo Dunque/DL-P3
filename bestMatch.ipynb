{
 "cells": [
  {
   "cell_type": "code",
   "execution_count": 5,
   "metadata": {},
   "outputs": [],
   "source": [
    "import pandas as pd \n",
    "from tqdm import tqdm\n",
    "\n",
    "from pyserini.search import get_topics\n",
    "from pyserini.search.lucene import LuceneSearcher\n",
    "from pyserini.output_writer import get_output_writer, OutputFormat\n",
    "from pyserini.query_iterator import get_query_iterator, TopicsFormat\n",
    "\n",
    "from tools.scripts.msmarco.msmarco_doc_eval import compute_metrics_from_files"
   ]
  },
  {
   "cell_type": "code",
   "execution_count": 6,
   "metadata": {},
   "outputs": [],
   "source": [
    "# Function to run the queries\n",
    "def run_queries(output_path, searcher):\n",
    "\n",
    "    # Parameters for the output writer\n",
    "    output_format = 'msmarco'\n",
    "    num_docs = 100\n",
    "    \n",
    "    if output_path is None:\n",
    "        tag = 'Anserini'\n",
    "    else:\n",
    "        tag = output_path[:-4]\n",
    "    \n",
    "    topics = 'msmarco-doc-dev'\n",
    "    query_iterator = get_query_iterator(topics, TopicsFormat(TopicsFormat.DEFAULT.value))\n",
    "    topics = query_iterator.topics\n",
    "    \n",
    "    max_passage = False\n",
    "    max_passage_delimiter = \"#\"\n",
    "    max_passage_hits = 100\n",
    "\n",
    "    # Output writer\n",
    "    output_writer = get_output_writer(output_path, OutputFormat(output_format), 'w', max_hits=num_docs, tag=tag, \n",
    "                                      topics=topics, use_max_passage=max_passage, max_passage_delimiter=max_passage_delimiter,\n",
    "                                      max_passage_hits=max_passage_hits)\n",
    "\n",
    "    # Concurrent search\n",
    "    batch_size = 64\n",
    "    threads = 16\n",
    "    \n",
    "    # Search\n",
    "    with output_writer:\n",
    "        \n",
    "        # Create the list of topics and topic ids\n",
    "        batch_topics = list()\n",
    "        batch_topic_ids = list()\n",
    "        \n",
    "        # Iterate over the topics\n",
    "        for index, (topic_id, text) in enumerate(tqdm(query_iterator, total=len(topics.keys()))):\n",
    "            \n",
    "            # Append the topic id and topic text to the list\n",
    "            batch_topic_ids.append(str(topic_id))\n",
    "            batch_topics.append(text)\n",
    "            \n",
    "            #  If the batch size is reached or if the last topic is reached\n",
    "            if (index == len(topics.keys()) - 1) or ((index + 1) % batch_size == 0):\n",
    "                \n",
    "                # Search the topics\n",
    "                results = searcher.batch_search(batch_topics, batch_topic_ids, num_docs, threads, query_generator = None, fields = dict())\n",
    "                results = [(id_, results[id_]) for id_ in batch_topic_ids]\n",
    "                \n",
    "                # Clear the lists\n",
    "                batch_topic_ids.clear()\n",
    "                batch_topics.clear()\n",
    "            else:\n",
    "                continue\n",
    "            \n",
    "            # Write the results\n",
    "            for topic, hits in results:\n",
    "\n",
    "                output_writer.write(topic, hits)\n",
    "\n",
    "            results.clear()"
   ]
  },
  {
   "cell_type": "code",
   "execution_count": 7,
   "metadata": {},
   "outputs": [],
   "source": [
    "# Parameters for the grid search\n",
    "k1_list =  [2, 2.5, 3, 3.5, 4, 4.5, 5, 5.5]\n",
    "b_list =  [0.25, 0.5, 0.75, 1]"
   ]
  },
  {
   "cell_type": "code",
   "execution_count": 8,
   "metadata": {},
   "outputs": [
    {
     "name": "stdout",
     "output_type": "stream",
     "text": [
      "Using pre-defined topic order for msmarco-doc-dev\n"
     ]
    },
    {
     "name": "stderr",
     "output_type": "stream",
     "text": [
      "100%|██████████| 5193/5193 [04:24<00:00, 19.60it/s]\n"
     ]
    },
    {
     "name": "stdout",
     "output_type": "stream",
     "text": [
      "Quantity of Documents ranked for each query is as expected. Evaluating\n",
      "Using pre-defined topic order for msmarco-doc-dev\n"
     ]
    },
    {
     "name": "stderr",
     "output_type": "stream",
     "text": [
      "100%|██████████| 5193/5193 [04:14<00:00, 20.42it/s]\n"
     ]
    },
    {
     "name": "stdout",
     "output_type": "stream",
     "text": [
      "Quantity of Documents ranked for each query is as expected. Evaluating\n",
      "Using pre-defined topic order for msmarco-doc-dev\n"
     ]
    },
    {
     "name": "stderr",
     "output_type": "stream",
     "text": [
      "100%|██████████| 5193/5193 [03:52<00:00, 22.34it/s]\n"
     ]
    },
    {
     "name": "stdout",
     "output_type": "stream",
     "text": [
      "Quantity of Documents ranked for each query is as expected. Evaluating\n",
      "Using pre-defined topic order for msmarco-doc-dev\n"
     ]
    },
    {
     "name": "stderr",
     "output_type": "stream",
     "text": [
      "100%|██████████| 5193/5193 [03:38<00:00, 23.77it/s]\n"
     ]
    },
    {
     "name": "stdout",
     "output_type": "stream",
     "text": [
      "Quantity of Documents ranked for each query is as expected. Evaluating\n",
      "Using pre-defined topic order for msmarco-doc-dev\n"
     ]
    },
    {
     "name": "stderr",
     "output_type": "stream",
     "text": [
      "100%|██████████| 5193/5193 [04:17<00:00, 20.20it/s]\n"
     ]
    },
    {
     "name": "stdout",
     "output_type": "stream",
     "text": [
      "Quantity of Documents ranked for each query is as expected. Evaluating\n",
      "Using pre-defined topic order for msmarco-doc-dev\n"
     ]
    },
    {
     "name": "stderr",
     "output_type": "stream",
     "text": [
      "100%|██████████| 5193/5193 [03:35<00:00, 24.11it/s]\n"
     ]
    },
    {
     "name": "stdout",
     "output_type": "stream",
     "text": [
      "Quantity of Documents ranked for each query is as expected. Evaluating\n",
      "Using pre-defined topic order for msmarco-doc-dev\n"
     ]
    },
    {
     "name": "stderr",
     "output_type": "stream",
     "text": [
      "100%|██████████| 5193/5193 [03:26<00:00, 25.20it/s]\n"
     ]
    },
    {
     "name": "stdout",
     "output_type": "stream",
     "text": [
      "Quantity of Documents ranked for each query is as expected. Evaluating\n",
      "Using pre-defined topic order for msmarco-doc-dev\n"
     ]
    },
    {
     "name": "stderr",
     "output_type": "stream",
     "text": [
      "100%|██████████| 5193/5193 [03:14<00:00, 26.64it/s]\n"
     ]
    },
    {
     "name": "stdout",
     "output_type": "stream",
     "text": [
      "Quantity of Documents ranked for each query is as expected. Evaluating\n",
      "Using pre-defined topic order for msmarco-doc-dev\n"
     ]
    },
    {
     "name": "stderr",
     "output_type": "stream",
     "text": [
      "100%|██████████| 5193/5193 [03:59<00:00, 21.68it/s]\n"
     ]
    },
    {
     "name": "stdout",
     "output_type": "stream",
     "text": [
      "Quantity of Documents ranked for each query is as expected. Evaluating\n",
      "Using pre-defined topic order for msmarco-doc-dev\n"
     ]
    },
    {
     "name": "stderr",
     "output_type": "stream",
     "text": [
      "100%|██████████| 5193/5193 [03:40<00:00, 23.55it/s]\n"
     ]
    },
    {
     "name": "stdout",
     "output_type": "stream",
     "text": [
      "Quantity of Documents ranked for each query is as expected. Evaluating\n",
      "Using pre-defined topic order for msmarco-doc-dev\n"
     ]
    },
    {
     "name": "stderr",
     "output_type": "stream",
     "text": [
      "100%|██████████| 5193/5193 [03:34<00:00, 24.21it/s]\n"
     ]
    },
    {
     "name": "stdout",
     "output_type": "stream",
     "text": [
      "Quantity of Documents ranked for each query is as expected. Evaluating\n",
      "Using pre-defined topic order for msmarco-doc-dev\n"
     ]
    },
    {
     "name": "stderr",
     "output_type": "stream",
     "text": [
      "100%|██████████| 5193/5193 [03:21<00:00, 25.76it/s]\n"
     ]
    },
    {
     "name": "stdout",
     "output_type": "stream",
     "text": [
      "Quantity of Documents ranked for each query is as expected. Evaluating\n",
      "Using pre-defined topic order for msmarco-doc-dev\n"
     ]
    },
    {
     "name": "stderr",
     "output_type": "stream",
     "text": [
      "100%|██████████| 5193/5193 [02:36<00:00, 33.27it/s]\n"
     ]
    },
    {
     "name": "stdout",
     "output_type": "stream",
     "text": [
      "Quantity of Documents ranked for each query is as expected. Evaluating\n",
      "Using pre-defined topic order for msmarco-doc-dev\n"
     ]
    },
    {
     "name": "stderr",
     "output_type": "stream",
     "text": [
      "100%|██████████| 5193/5193 [01:58<00:00, 43.78it/s]\n"
     ]
    },
    {
     "name": "stdout",
     "output_type": "stream",
     "text": [
      "Quantity of Documents ranked for each query is as expected. Evaluating\n",
      "Using pre-defined topic order for msmarco-doc-dev\n"
     ]
    },
    {
     "name": "stderr",
     "output_type": "stream",
     "text": [
      "100%|██████████| 5193/5193 [01:52<00:00, 46.29it/s]\n"
     ]
    },
    {
     "name": "stdout",
     "output_type": "stream",
     "text": [
      "Quantity of Documents ranked for each query is as expected. Evaluating\n",
      "Using pre-defined topic order for msmarco-doc-dev\n"
     ]
    },
    {
     "name": "stderr",
     "output_type": "stream",
     "text": [
      "100%|██████████| 5193/5193 [01:44<00:00, 49.48it/s]\n"
     ]
    },
    {
     "name": "stdout",
     "output_type": "stream",
     "text": [
      "Quantity of Documents ranked for each query is as expected. Evaluating\n",
      "Using pre-defined topic order for msmarco-doc-dev\n"
     ]
    },
    {
     "name": "stderr",
     "output_type": "stream",
     "text": [
      "100%|██████████| 5193/5193 [02:10<00:00, 39.88it/s]\n"
     ]
    },
    {
     "name": "stdout",
     "output_type": "stream",
     "text": [
      "Quantity of Documents ranked for each query is as expected. Evaluating\n",
      "Using pre-defined topic order for msmarco-doc-dev\n"
     ]
    },
    {
     "name": "stderr",
     "output_type": "stream",
     "text": [
      "100%|██████████| 5193/5193 [02:03<00:00, 42.15it/s]\n"
     ]
    },
    {
     "name": "stdout",
     "output_type": "stream",
     "text": [
      "Quantity of Documents ranked for each query is as expected. Evaluating\n",
      "Using pre-defined topic order for msmarco-doc-dev\n"
     ]
    },
    {
     "name": "stderr",
     "output_type": "stream",
     "text": [
      "100%|██████████| 5193/5193 [01:58<00:00, 43.90it/s]\n"
     ]
    },
    {
     "name": "stdout",
     "output_type": "stream",
     "text": [
      "Quantity of Documents ranked for each query is as expected. Evaluating\n",
      "Using pre-defined topic order for msmarco-doc-dev\n"
     ]
    },
    {
     "name": "stderr",
     "output_type": "stream",
     "text": [
      "100%|██████████| 5193/5193 [01:49<00:00, 47.48it/s]\n"
     ]
    },
    {
     "name": "stdout",
     "output_type": "stream",
     "text": [
      "Quantity of Documents ranked for each query is as expected. Evaluating\n",
      "Using pre-defined topic order for msmarco-doc-dev\n"
     ]
    },
    {
     "name": "stderr",
     "output_type": "stream",
     "text": [
      "100%|██████████| 5193/5193 [02:13<00:00, 38.87it/s]\n"
     ]
    },
    {
     "name": "stdout",
     "output_type": "stream",
     "text": [
      "Quantity of Documents ranked for each query is as expected. Evaluating\n",
      "Using pre-defined topic order for msmarco-doc-dev\n"
     ]
    },
    {
     "name": "stderr",
     "output_type": "stream",
     "text": [
      "100%|██████████| 5193/5193 [02:06<00:00, 41.11it/s]\n"
     ]
    },
    {
     "name": "stdout",
     "output_type": "stream",
     "text": [
      "Quantity of Documents ranked for each query is as expected. Evaluating\n",
      "Using pre-defined topic order for msmarco-doc-dev\n"
     ]
    },
    {
     "name": "stderr",
     "output_type": "stream",
     "text": [
      "100%|██████████| 5193/5193 [01:57<00:00, 44.19it/s]\n"
     ]
    },
    {
     "name": "stdout",
     "output_type": "stream",
     "text": [
      "Quantity of Documents ranked for each query is as expected. Evaluating\n",
      "Using pre-defined topic order for msmarco-doc-dev\n"
     ]
    },
    {
     "name": "stderr",
     "output_type": "stream",
     "text": [
      "100%|██████████| 5193/5193 [01:33<00:00, 55.61it/s]\n"
     ]
    },
    {
     "name": "stdout",
     "output_type": "stream",
     "text": [
      "Quantity of Documents ranked for each query is as expected. Evaluating\n",
      "Using pre-defined topic order for msmarco-doc-dev\n"
     ]
    },
    {
     "name": "stderr",
     "output_type": "stream",
     "text": [
      "100%|██████████| 5193/5193 [01:52<00:00, 46.29it/s]\n"
     ]
    },
    {
     "name": "stdout",
     "output_type": "stream",
     "text": [
      "Quantity of Documents ranked for each query is as expected. Evaluating\n",
      "Using pre-defined topic order for msmarco-doc-dev\n"
     ]
    },
    {
     "name": "stderr",
     "output_type": "stream",
     "text": [
      "100%|██████████| 5193/5193 [01:46<00:00, 48.86it/s]\n"
     ]
    },
    {
     "name": "stdout",
     "output_type": "stream",
     "text": [
      "Quantity of Documents ranked for each query is as expected. Evaluating\n",
      "Using pre-defined topic order for msmarco-doc-dev\n"
     ]
    },
    {
     "name": "stderr",
     "output_type": "stream",
     "text": [
      "100%|██████████| 5193/5193 [01:42<00:00, 50.69it/s]\n"
     ]
    },
    {
     "name": "stdout",
     "output_type": "stream",
     "text": [
      "Quantity of Documents ranked for each query is as expected. Evaluating\n",
      "Using pre-defined topic order for msmarco-doc-dev\n"
     ]
    },
    {
     "name": "stderr",
     "output_type": "stream",
     "text": [
      "100%|██████████| 5193/5193 [01:35<00:00, 54.47it/s]\n"
     ]
    },
    {
     "name": "stdout",
     "output_type": "stream",
     "text": [
      "Quantity of Documents ranked for each query is as expected. Evaluating\n",
      "Using pre-defined topic order for msmarco-doc-dev\n"
     ]
    },
    {
     "name": "stderr",
     "output_type": "stream",
     "text": [
      "100%|██████████| 5193/5193 [01:55<00:00, 44.88it/s]\n"
     ]
    },
    {
     "name": "stdout",
     "output_type": "stream",
     "text": [
      "Quantity of Documents ranked for each query is as expected. Evaluating\n",
      "Using pre-defined topic order for msmarco-doc-dev\n"
     ]
    },
    {
     "name": "stderr",
     "output_type": "stream",
     "text": [
      "100%|██████████| 5193/5193 [02:08<00:00, 40.54it/s]\n"
     ]
    },
    {
     "name": "stdout",
     "output_type": "stream",
     "text": [
      "Quantity of Documents ranked for each query is as expected. Evaluating\n",
      "Using pre-defined topic order for msmarco-doc-dev\n"
     ]
    },
    {
     "name": "stderr",
     "output_type": "stream",
     "text": [
      "100%|██████████| 5193/5193 [01:57<00:00, 44.10it/s]\n"
     ]
    },
    {
     "name": "stdout",
     "output_type": "stream",
     "text": [
      "Quantity of Documents ranked for each query is as expected. Evaluating\n",
      "Using pre-defined topic order for msmarco-doc-dev\n"
     ]
    },
    {
     "name": "stderr",
     "output_type": "stream",
     "text": [
      "100%|██████████| 5193/5193 [01:38<00:00, 52.91it/s]\n"
     ]
    },
    {
     "name": "stdout",
     "output_type": "stream",
     "text": [
      "Quantity of Documents ranked for each query is as expected. Evaluating\n"
     ]
    },
    {
     "name": "stderr",
     "output_type": "stream",
     "text": [
      "/tmp/ipykernel_459442/3112864385.py:28: FutureWarning: In future versions `DataFrame.to_latex` is expected to utilise the base implementation of `Styler.to_latex` for formatting and rendering. The arguments signature may therefore change. It is recommended instead to use `DataFrame.style.to_latex` which also contains additional functionality.\n",
      "  df.to_latex('BestMatch25.tex', index=False)\n"
     ]
    }
   ],
   "source": [
    "# Dataframe to store the results\n",
    "df = pd.DataFrame(columns=['k1', 'b', 'mrr@100'])\n",
    "\n",
    "# Grid search\n",
    "for k1 in k1_list:\n",
    "    for b in b_list:\n",
    "        \n",
    "        # Set the searcher\n",
    "        lucene_searcher = LuceneSearcher('./indexes/lucene-index-msmarco-doc/')\n",
    "        lucene_searcher.set_bm25(k1=k1, b=b)\n",
    "        \n",
    "        # Set the output path and the reference file\n",
    "        path_to_candidate = f'./runs/bestMatch.k{k1}.b{b}.txt'\n",
    "        topics = get_topics('msmarco-doc-dev')\n",
    "        path_to_reference = './pyserini/tools/topics-and-qrels/qrels.msmarco-doc.dev.txt'\n",
    "\n",
    "        # Run the queries\n",
    "        run_queries(path_to_candidate, lucene_searcher)\n",
    "\n",
    "        # Evaluate the results for mrr@100\n",
    "        exclude_qids = set()\n",
    "        metrics = compute_metrics_from_files(path_to_reference, path_to_candidate, exclude_qids)\n",
    "\n",
    "        # Add the results to the dataframe\n",
    "        df = pd.concat([df, pd.DataFrame([[k1, b, metrics['MRR @100']]], columns=['k1', 'b', 'mrr@100'])])\n",
    "\n",
    "# Save the results in a tex file\n",
    "df.to_latex('BestMatch25.tex', index=False)"
   ]
  }
 ],
 "metadata": {
  "kernelspec": {
   "display_name": "pyserini-dev",
   "language": "python",
   "name": "python3"
  },
  "language_info": {
   "codemirror_mode": {
    "name": "ipython",
    "version": 3
   },
   "file_extension": ".py",
   "mimetype": "text/x-python",
   "name": "python",
   "nbconvert_exporter": "python",
   "pygments_lexer": "ipython3",
   "version": "3.8.16"
  },
  "orig_nbformat": 4
 },
 "nbformat": 4,
 "nbformat_minor": 2
}
